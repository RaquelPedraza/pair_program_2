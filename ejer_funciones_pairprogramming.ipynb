{
 "cells": [
  {
   "cell_type": "code",
   "execution_count": null,
   "metadata": {},
   "outputs": [],
   "source": []
  },
  {
   "cell_type": "markdown",
   "metadata": {},
   "source": [
    "Pair programming Funciones\n",
    "1.Calcular el área de un círculo.\n",
    "\n",
    "Descripción: Crea una función llamada calcular_area_circulo que tome el radio como parámetro y devuelva el área del círculo.\n",
    "\n",
    "NOTA: Os dejamos aquí un link para recordar comose calculaba el área de un círculo. - pi*radio al cuadrado"
   ]
  },
  {
   "cell_type": "code",
   "execution_count": 2,
   "metadata": {},
   "outputs": [],
   "source": [
    "def calcular_area_circulo(radio):\n",
    "    area = 3.14*(radio**2)\n",
    "    return(area)\n",
    "\n"
   ]
  },
  {
   "cell_type": "code",
   "execution_count": 3,
   "metadata": {},
   "outputs": [
    {
     "data": {
      "text/plain": [
       "12.56"
      ]
     },
     "execution_count": 3,
     "metadata": {},
     "output_type": "execute_result"
    }
   ],
   "source": [
    "calcular_area_circulo(2)"
   ]
  },
  {
   "cell_type": "markdown",
   "metadata": {},
   "source": [
    "2.Contar la cantidad de caracteres en una cadena.\n",
    "\n",
    "Descripción: Crea una función llamada contar_caracteres que tome una cadena como parámetro y devuelva la cantidad de caracteres que contiene."
   ]
  },
  {
   "cell_type": "code",
   "execution_count": 9,
   "metadata": {},
   "outputs": [],
   "source": [
    "def contar_caracteres (cadena):\n",
    "    contar = len(cadena)\n",
    "    return contar"
   ]
  },
  {
   "cell_type": "code",
   "execution_count": 10,
   "metadata": {},
   "outputs": [
    {
     "data": {
      "text/plain": [
       "6"
      ]
     },
     "execution_count": 10,
     "metadata": {},
     "output_type": "execute_result"
    }
   ],
   "source": [
    "contar_caracteres(\"adalab\")"
   ]
  },
  {
   "cell_type": "markdown",
   "metadata": {},
   "source": [
    "3.Determinar si una cadena es un palíndromo.\n",
    "\n",
    "Descripción: Crea una función llamada es_palindromo que tome una cadena como parámetro y devuelva True si es un palíndromo, o False si no lo es.\n",
    "\n",
    "¿Qué es un palíndromo?."
   ]
  },
  {
   "cell_type": "code",
   "execution_count": 17,
   "metadata": {},
   "outputs": [],
   "source": [
    "def es_palindromo (cadena):\n",
    "    cadena_invertida = cadena[::-1]\n",
    "    if cadena == cadena_invertida:\n",
    "        return True\n",
    "    else:\n",
    "        return False\n",
    "    "
   ]
  },
  {
   "cell_type": "code",
   "execution_count": 19,
   "metadata": {},
   "outputs": [
    {
     "data": {
      "text/plain": [
       "True"
      ]
     },
     "execution_count": 19,
     "metadata": {},
     "output_type": "execute_result"
    }
   ],
   "source": [
    "es_palindromo(\"luzazul\")"
   ]
  },
  {
   "cell_type": "markdown",
   "metadata": {},
   "source": [
    "4.Calcular el promedio de una lista de números.\n",
    "\n",
    "Descripción: Crea una función llamada calcular_promedio que tome una lista de números como parámetro y devuelva el promedio de todos sus elementos."
   ]
  },
  {
   "cell_type": "code",
   "execution_count": 26,
   "metadata": {},
   "outputs": [],
   "source": [
    "def calcular_promedio (lista):\n",
    "    promedio = sum(lista)/len(lista)\n",
    "    return promedio\n"
   ]
  },
  {
   "cell_type": "code",
   "execution_count": 27,
   "metadata": {},
   "outputs": [
    {
     "data": {
      "text/plain": [
       "2.0"
      ]
     },
     "execution_count": 27,
     "metadata": {},
     "output_type": "execute_result"
    }
   ],
   "source": [
    "lista_1 = [1, 2, 3]\n",
    "calcular_promedio(lista_1)"
   ]
  },
  {
   "cell_type": "markdown",
   "metadata": {},
   "source": [
    "5.Calcular el interés compuesto.\n",
    "\n",
    "Descripción: Crea una función llamada calcular_interes_compuesto que tome el capital inicial, la tasa de interés y el número de períodos como parámetros y devuelva el beneficio final después del interés compuesto."
   ]
  },
  {
   "cell_type": "code",
   "execution_count": 28,
   "metadata": {},
   "outputs": [],
   "source": [
    "def calcular_interes_compuesto (cap, tasa, periodos):\n",
    "    beneficio_final = cap*(1+tasa)**periodos\n",
    "    return beneficio_final"
   ]
  },
  {
   "cell_type": "code",
   "execution_count": 29,
   "metadata": {},
   "outputs": [
    {
     "data": {
      "text/plain": [
       "1610.5100000000004"
      ]
     },
     "execution_count": 29,
     "metadata": {},
     "output_type": "execute_result"
    }
   ],
   "source": [
    "calcular_interes_compuesto(1000, 0.1, 5)"
   ]
  },
  {
   "cell_type": "markdown",
   "metadata": {},
   "source": [
    "6.Validar si una palabra es un anagrama de otra.\n",
    "\n",
    "Descripción: Crea una función llamada es_anagrama que tome dos palabras como parámetros y devuelva True si una es un anagrama de la otra, o False si no lo es.\n",
    "\n",
    "¿Qué es un anagrama?."
   ]
  },
  {
   "cell_type": "code",
   "execution_count": 38,
   "metadata": {},
   "outputs": [],
   "source": [
    "def es_anagrama (pal1, pal2):\n",
    "    letras = sorted(pal1)\n",
    "    letras2 = sorted(pal2)\n",
    "    if letras == letras2:\n",
    "        return True\n",
    "    else:\n",
    "        return False\n"
   ]
  },
  {
   "cell_type": "code",
   "execution_count": 39,
   "metadata": {},
   "outputs": [
    {
     "data": {
      "text/plain": [
       "True"
      ]
     },
     "execution_count": 39,
     "metadata": {},
     "output_type": "execute_result"
    }
   ],
   "source": [
    "es_anagrama(\"amor\", \"roma\")"
   ]
  },
  {
   "cell_type": "code",
   "execution_count": 40,
   "metadata": {},
   "outputs": [
    {
     "data": {
      "text/plain": [
       "False"
      ]
     },
     "execution_count": 40,
     "metadata": {},
     "output_type": "execute_result"
    }
   ],
   "source": [
    "es_anagrama(\"amor\", \"palos\")"
   ]
  },
  {
   "cell_type": "markdown",
   "metadata": {},
   "source": [
    "7.Validar si una cadena de texto es un isograma.\n",
    "\n",
    "Descripción: Crea una función llamada es_isograma que tome una cadena de texto como parámetro y devuelva True si es un isograma. En caso contrario, devuelve False.\n",
    "\n",
    "¿Qué es un isograma? Una palabra que no contiene letras repetidas."
   ]
  },
  {
   "cell_type": "code",
   "execution_count": 41,
   "metadata": {},
   "outputs": [],
   "source": [
    "def es_isograma (texto):\n",
    "    comp_iso = set(texto)\n",
    "    if texto.count() == comp_iso.count():\n",
    "        return True\n",
    "    else:\n",
    "        return False\n",
    "\n"
   ]
  },
  {
   "cell_type": "code",
   "execution_count": 42,
   "metadata": {},
   "outputs": [
    {
     "ename": "TypeError",
     "evalue": "count() takes at least 1 argument (0 given)",
     "output_type": "error",
     "traceback": [
      "\u001b[0;31m---------------------------------------------------------------------------\u001b[0m",
      "\u001b[0;31mTypeError\u001b[0m                                 Traceback (most recent call last)",
      "\u001b[0;32m/tmp/ipykernel_16531/3136816151.py\u001b[0m in \u001b[0;36m<module>\u001b[0;34m\u001b[0m\n\u001b[0;32m----> 1\u001b[0;31m \u001b[0mes_isograma\u001b[0m\u001b[0;34m(\u001b[0m\u001b[0;34m\"murcielago\"\u001b[0m\u001b[0;34m)\u001b[0m\u001b[0;34m\u001b[0m\u001b[0;34m\u001b[0m\u001b[0m\n\u001b[0m",
      "\u001b[0;32m/tmp/ipykernel_16531/2531350939.py\u001b[0m in \u001b[0;36mes_isograma\u001b[0;34m(texto)\u001b[0m\n\u001b[1;32m      1\u001b[0m \u001b[0;32mdef\u001b[0m \u001b[0mes_isograma\u001b[0m \u001b[0;34m(\u001b[0m\u001b[0mtexto\u001b[0m\u001b[0;34m)\u001b[0m\u001b[0;34m:\u001b[0m\u001b[0;34m\u001b[0m\u001b[0;34m\u001b[0m\u001b[0m\n\u001b[1;32m      2\u001b[0m     \u001b[0mcomp_iso\u001b[0m \u001b[0;34m=\u001b[0m \u001b[0mset\u001b[0m\u001b[0;34m(\u001b[0m\u001b[0mtexto\u001b[0m\u001b[0;34m)\u001b[0m\u001b[0;34m\u001b[0m\u001b[0;34m\u001b[0m\u001b[0m\n\u001b[0;32m----> 3\u001b[0;31m     \u001b[0;32mif\u001b[0m \u001b[0mtexto\u001b[0m\u001b[0;34m.\u001b[0m\u001b[0mcount\u001b[0m\u001b[0;34m(\u001b[0m\u001b[0;34m)\u001b[0m \u001b[0;34m==\u001b[0m \u001b[0mcomp_iso\u001b[0m\u001b[0;34m.\u001b[0m\u001b[0mcount\u001b[0m\u001b[0;34m(\u001b[0m\u001b[0;34m)\u001b[0m\u001b[0;34m:\u001b[0m\u001b[0;34m\u001b[0m\u001b[0;34m\u001b[0m\u001b[0m\n\u001b[0m\u001b[1;32m      4\u001b[0m         \u001b[0;32mreturn\u001b[0m \u001b[0;32mTrue\u001b[0m\u001b[0;34m\u001b[0m\u001b[0;34m\u001b[0m\u001b[0m\n\u001b[1;32m      5\u001b[0m     \u001b[0;32melse\u001b[0m\u001b[0;34m:\u001b[0m\u001b[0;34m\u001b[0m\u001b[0;34m\u001b[0m\u001b[0m\n",
      "\u001b[0;31mTypeError\u001b[0m: count() takes at least 1 argument (0 given)"
     ]
    }
   ],
   "source": [
    "es_isograma(\"murcielago\")"
   ]
  },
  {
   "cell_type": "markdown",
   "metadata": {},
   "source": [
    "8.Concatenar múltiples cadenas de texto\n",
    "\n",
    "Descripción: Crea una función llamada concatenar_cadenas que tome una cantidad variable de cadenas de texto como argumentos y devuelva una única cadena que contenga la concatenación de todas las cadenas ingresadas.\n",
    "\n",
    "9.Crear un diccionario con información de una persona.\n",
    "\n",
    "Descripción: Crea una función llamada crear_persona que tome como argumentos clave-valor los datos de una persona, como nombre, edad, ciudad, etc., y devuelva un diccionario con toda la información ingresada.\n",
    "\n",
    "10.Encontrar el número que falta en una lista ordenada de números consecutivos.\n",
    "\n",
    "Descripción: Crea una función llamada encontrar_numero_faltante que tome una lista de números consecutivos (del 1 al N, sin repetir) con un número faltante y devuelva ese número faltante.\n",
    "\n",
    "11.Encontrar el elemento duplicado en una lista de números.\n",
    "\n",
    "Descripción: Crea una función llamada encontrar_duplicado que tome una lista de números enteros y devuelva el elemento que está duplicado en la lista."
   ]
  }
 ],
 "metadata": {
  "kernelspec": {
   "display_name": "base",
   "language": "python",
   "name": "python3"
  },
  "language_info": {
   "codemirror_mode": {
    "name": "ipython",
    "version": 3
   },
   "file_extension": ".py",
   "mimetype": "text/x-python",
   "name": "python",
   "nbconvert_exporter": "python",
   "pygments_lexer": "ipython3",
   "version": "3.9.7"
  }
 },
 "nbformat": 4,
 "nbformat_minor": 2
}
